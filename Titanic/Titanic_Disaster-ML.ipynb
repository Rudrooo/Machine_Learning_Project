{
 "cells": [
  {
   "cell_type": "code",
   "execution_count": 744,
   "id": "009cd15f-466f-489b-9b5f-c0c69c659393",
   "metadata": {},
   "outputs": [],
   "source": [
    "import pandas as pd\n",
    "from sklearn.model_selection import train_test_split\n",
    "import numpy as np\n",
    "import tensorflow as tf\n",
    "from tensorflow.keras import Sequential\n",
    "from tensorflow.keras.layers import Dense\n",
    "from xgboost import XGBClassifier\n",
    "import seaborn as sns\n",
    "from sklearn.metrics import accuracy_score\n",
    "from sklearn import metrics\n",
    "import matplotlib.pyplot as plt"
   ]
  },
  {
   "cell_type": "code",
   "execution_count": 745,
   "id": "fd6b5103-960a-4685-8d02-d2a41f08c84c",
   "metadata": {},
   "outputs": [],
   "source": [
    "train_data=pd.read_csv(\"train.csv\")"
   ]
  },
  {
   "cell_type": "code",
   "execution_count": 746,
   "id": "1a8e9c09-e25f-4caa-a16a-77aa9b43afd5",
   "metadata": {},
   "outputs": [
    {
     "data": {
      "text/plain": [
       "True"
      ]
     },
     "execution_count": 746,
     "metadata": {},
     "output_type": "execute_result"
    }
   ],
   "source": [
    "train_data.isna().values.any()"
   ]
  },
  {
   "cell_type": "code",
   "execution_count": 747,
   "id": "366c3fa3-faf5-42a9-a6fd-c0efbe51d16e",
   "metadata": {},
   "outputs": [
    {
     "data": {
      "text/html": [
       "<div>\n",
       "<style scoped>\n",
       "    .dataframe tbody tr th:only-of-type {\n",
       "        vertical-align: middle;\n",
       "    }\n",
       "\n",
       "    .dataframe tbody tr th {\n",
       "        vertical-align: top;\n",
       "    }\n",
       "\n",
       "    .dataframe thead th {\n",
       "        text-align: right;\n",
       "    }\n",
       "</style>\n",
       "<table border=\"1\" class=\"dataframe\">\n",
       "  <thead>\n",
       "    <tr style=\"text-align: right;\">\n",
       "      <th></th>\n",
       "      <th>PassengerId</th>\n",
       "      <th>Survived</th>\n",
       "      <th>Pclass</th>\n",
       "      <th>Name</th>\n",
       "      <th>Sex</th>\n",
       "      <th>Age</th>\n",
       "      <th>SibSp</th>\n",
       "      <th>Parch</th>\n",
       "      <th>Ticket</th>\n",
       "      <th>Fare</th>\n",
       "      <th>Cabin</th>\n",
       "      <th>Embarked</th>\n",
       "    </tr>\n",
       "  </thead>\n",
       "  <tbody>\n",
       "    <tr>\n",
       "      <th>0</th>\n",
       "      <td>1</td>\n",
       "      <td>0</td>\n",
       "      <td>3</td>\n",
       "      <td>Braund, Mr. Owen Harris</td>\n",
       "      <td>male</td>\n",
       "      <td>22.0</td>\n",
       "      <td>1</td>\n",
       "      <td>0</td>\n",
       "      <td>A/5 21171</td>\n",
       "      <td>7.2500</td>\n",
       "      <td>NaN</td>\n",
       "      <td>S</td>\n",
       "    </tr>\n",
       "    <tr>\n",
       "      <th>1</th>\n",
       "      <td>2</td>\n",
       "      <td>1</td>\n",
       "      <td>1</td>\n",
       "      <td>Cumings, Mrs. John Bradley (Florence Briggs Th...</td>\n",
       "      <td>female</td>\n",
       "      <td>38.0</td>\n",
       "      <td>1</td>\n",
       "      <td>0</td>\n",
       "      <td>PC 17599</td>\n",
       "      <td>71.2833</td>\n",
       "      <td>C85</td>\n",
       "      <td>C</td>\n",
       "    </tr>\n",
       "    <tr>\n",
       "      <th>2</th>\n",
       "      <td>3</td>\n",
       "      <td>1</td>\n",
       "      <td>3</td>\n",
       "      <td>Heikkinen, Miss. Laina</td>\n",
       "      <td>female</td>\n",
       "      <td>26.0</td>\n",
       "      <td>0</td>\n",
       "      <td>0</td>\n",
       "      <td>STON/O2. 3101282</td>\n",
       "      <td>7.9250</td>\n",
       "      <td>NaN</td>\n",
       "      <td>S</td>\n",
       "    </tr>\n",
       "    <tr>\n",
       "      <th>3</th>\n",
       "      <td>4</td>\n",
       "      <td>1</td>\n",
       "      <td>1</td>\n",
       "      <td>Futrelle, Mrs. Jacques Heath (Lily May Peel)</td>\n",
       "      <td>female</td>\n",
       "      <td>35.0</td>\n",
       "      <td>1</td>\n",
       "      <td>0</td>\n",
       "      <td>113803</td>\n",
       "      <td>53.1000</td>\n",
       "      <td>C123</td>\n",
       "      <td>S</td>\n",
       "    </tr>\n",
       "    <tr>\n",
       "      <th>4</th>\n",
       "      <td>5</td>\n",
       "      <td>0</td>\n",
       "      <td>3</td>\n",
       "      <td>Allen, Mr. William Henry</td>\n",
       "      <td>male</td>\n",
       "      <td>35.0</td>\n",
       "      <td>0</td>\n",
       "      <td>0</td>\n",
       "      <td>373450</td>\n",
       "      <td>8.0500</td>\n",
       "      <td>NaN</td>\n",
       "      <td>S</td>\n",
       "    </tr>\n",
       "  </tbody>\n",
       "</table>\n",
       "</div>"
      ],
      "text/plain": [
       "   PassengerId  Survived  Pclass   \n",
       "0            1         0       3  \\\n",
       "1            2         1       1   \n",
       "2            3         1       3   \n",
       "3            4         1       1   \n",
       "4            5         0       3   \n",
       "\n",
       "                                                Name     Sex   Age  SibSp   \n",
       "0                            Braund, Mr. Owen Harris    male  22.0      1  \\\n",
       "1  Cumings, Mrs. John Bradley (Florence Briggs Th...  female  38.0      1   \n",
       "2                             Heikkinen, Miss. Laina  female  26.0      0   \n",
       "3       Futrelle, Mrs. Jacques Heath (Lily May Peel)  female  35.0      1   \n",
       "4                           Allen, Mr. William Henry    male  35.0      0   \n",
       "\n",
       "   Parch            Ticket     Fare Cabin Embarked  \n",
       "0      0         A/5 21171   7.2500   NaN        S  \n",
       "1      0          PC 17599  71.2833   C85        C  \n",
       "2      0  STON/O2. 3101282   7.9250   NaN        S  \n",
       "3      0            113803  53.1000  C123        S  \n",
       "4      0            373450   8.0500   NaN        S  "
      ]
     },
     "execution_count": 747,
     "metadata": {},
     "output_type": "execute_result"
    }
   ],
   "source": [
    "train_data.head()"
   ]
  },
  {
   "cell_type": "code",
   "execution_count": 748,
   "id": "a3e1de2e-843b-45f4-834f-5e95274fb734",
   "metadata": {},
   "outputs": [],
   "source": [
    "train_data.fillna(\"S\",inplace=True)"
   ]
  },
  {
   "cell_type": "code",
   "execution_count": 749,
   "id": "c2dd3591-dffa-4568-a4dd-72634d5803b0",
   "metadata": {},
   "outputs": [
    {
     "name": "stdout",
     "output_type": "stream",
     "text": [
      "3\n"
     ]
    }
   ],
   "source": [
    "print(train_data[\"Embarked\"].nunique())"
   ]
  },
  {
   "cell_type": "code",
   "execution_count": 750,
   "id": "722902f6-8297-4c51-a51b-3e32547301f0",
   "metadata": {},
   "outputs": [
    {
     "data": {
      "text/plain": [
       "7"
      ]
     },
     "execution_count": 750,
     "metadata": {},
     "output_type": "execute_result"
    }
   ],
   "source": [
    "train_data.Parch.nunique()"
   ]
  },
  {
   "cell_type": "code",
   "execution_count": 751,
   "id": "f608b1d4-e838-471b-b359-4463a298d30b",
   "metadata": {},
   "outputs": [
    {
     "data": {
      "text/plain": [
       "False"
      ]
     },
     "execution_count": 751,
     "metadata": {},
     "output_type": "execute_result"
    }
   ],
   "source": [
    "train_data.isna().values.any()"
   ]
  },
  {
   "cell_type": "code",
   "execution_count": 752,
   "id": "57cc3a41-3b97-4234-b078-b8bca647f342",
   "metadata": {},
   "outputs": [
    {
     "data": {
      "text/plain": [
       "PassengerId    891\n",
       "Survived         2\n",
       "Pclass           3\n",
       "Name           891\n",
       "Sex              2\n",
       "Age             89\n",
       "SibSp            7\n",
       "Parch            7\n",
       "Ticket         681\n",
       "Fare           248\n",
       "Cabin          148\n",
       "Embarked         3\n",
       "dtype: int64"
      ]
     },
     "execution_count": 752,
     "metadata": {},
     "output_type": "execute_result"
    }
   ],
   "source": [
    "train_data.nunique()"
   ]
  },
  {
   "cell_type": "code",
   "execution_count": 753,
   "id": "ab718aed-91d8-45d0-a0d2-cfb2dcc723e4",
   "metadata": {},
   "outputs": [
    {
     "data": {
      "text/plain": [
       "Survived\n",
       "0    549\n",
       "1    342\n",
       "Name: count, dtype: int64"
      ]
     },
     "execution_count": 753,
     "metadata": {},
     "output_type": "execute_result"
    }
   ],
   "source": [
    "train_data.Survived.value_counts()"
   ]
  },
  {
   "cell_type": "code",
   "execution_count": 754,
   "id": "ac1779bd-281f-4c72-873d-a1b1f7e45e43",
   "metadata": {},
   "outputs": [
    {
     "data": {
      "text/plain": [
       "<seaborn.axisgrid.FacetGrid at 0x297aa022690>"
      ]
     },
     "execution_count": 754,
     "metadata": {},
     "output_type": "execute_result"
    },
    {
     "data": {
      "image/png": "[encoded data removed]",
      "text/plain": [
       "<Figure size 1280x400 with 2 Axes>"
      ]
     },
     "metadata": {},
     "output_type": "display_data"
    }
   ],
   "source": [
    "sns.catplot(x=\"Survived\", col=\"Sex\", col_wrap=4,\n",
    "                data=train_data,\n",
    "                kind=\"count\", height=4, aspect=.8)"
   ]
  },
  {
   "cell_type": "code",
   "execution_count": 755,
   "id": "2e3dcfa0-b70e-4fe5-b6f5-78e05bd7179f",
   "metadata": {},
   "outputs": [
    {
     "name": "stdout",
     "output_type": "stream",
     "text": [
      "<class 'pandas.core.frame.DataFrame'>\n",
      "RangeIndex: 891 entries, 0 to 890\n",
      "Data columns (total 12 columns):\n",
      " #   Column       Non-Null Count  Dtype  \n",
      "---  ------       --------------  -----  \n",
      " 0   PassengerId  891 non-null    int64  \n",
      " 1   Survived     891 non-null    int64  \n",
      " 2   Pclass       891 non-null    int64  \n",
      " 3   Name         891 non-null    object \n",
      " 4   Sex          891 non-null    object \n",
      " 5   Age          891 non-null    object \n",
      " 6   SibSp        891 non-null    int64  \n",
      " 7   Parch        891 non-null    int64  \n",
      " 8   Ticket       891 non-null    object \n",
      " 9   Fare         891 non-null    float64\n",
      " 10  Cabin        891 non-null    object \n",
      " 11  Embarked     891 non-null    object \n",
      "dtypes: float64(1), int64(5), object(6)\n",
      "memory usage: 83.7+ KB\n"
     ]
    }
   ],
   "source": [
    "train_data.info()"
   ]
  },
  {
   "cell_type": "code",
   "execution_count": 756,
   "id": "36478539-0bee-4bdf-b761-58c22cef6e18",
   "metadata": {},
   "outputs": [
    {
     "data": {
      "text/plain": [
       "(891, 12)"
      ]
     },
     "execution_count": 756,
     "metadata": {},
     "output_type": "execute_result"
    }
   ],
   "source": [
    "train_data.shape"
   ]
  },
  {
   "cell_type": "code",
   "execution_count": 757,
   "id": "b0b87d09-5a3b-44c5-9b6e-4766e505b16b",
   "metadata": {},
   "outputs": [
    {
     "name": "stdout",
     "output_type": "stream",
     "text": [
      "(891,)\n",
      "210\n"
     ]
    }
   ],
   "source": [
    "duplicated=train_data[\"Ticket\"].duplicated()\n",
    "print(duplicated.shape)\n",
    "print(len([i for i in duplicated if i==True]))\n"
   ]
  },
  {
   "cell_type": "code",
   "execution_count": 758,
   "id": "ad7038a8-d770-4aad-a50d-3de9de7df19e",
   "metadata": {},
   "outputs": [
    {
     "name": "stdout",
     "output_type": "stream",
     "text": [
      "['Pclass', 'Sex', 'Age', 'SibSp', 'Parch', 'Fare', 'Embarked']\n"
     ]
    }
   ],
   "source": [
    "print(feature)"
   ]
  },
  {
   "cell_type": "code",
   "execution_count": 759,
   "id": "77dd45e4-37a2-42ac-92ba-783c723c9cf4",
   "metadata": {},
   "outputs": [],
   "source": [
    "train_data[\"Family_size\"]=train_data[\"SibSp\"]+train_data[\"Parch\"]+1"
   ]
  },
  {
   "cell_type": "code",
   "execution_count": 760,
   "id": "01af38a0-8718-4c6b-ac07-7f6b65a46c57",
   "metadata": {},
   "outputs": [
    {
     "data": {
      "text/plain": [
       "array([ 2,  1,  5,  3,  7,  6,  4,  8, 11], dtype=int64)"
      ]
     },
     "execution_count": 760,
     "metadata": {},
     "output_type": "execute_result"
    }
   ],
   "source": [
    "train_data.Family_size.unique()"
   ]
  },
  {
   "cell_type": "code",
   "execution_count": 761,
   "id": "bc2113c1-961d-4468-9fcd-c8db5f7ae504",
   "metadata": {},
   "outputs": [
    {
     "data": {
      "text/plain": [
       "array([22.0, 38.0, 26.0, 35.0, 'S', 54.0, 2.0, 27.0, 14.0, 4.0, 58.0,\n",
       "       20.0, 39.0, 55.0, 31.0, 34.0, 15.0, 28.0, 8.0, 19.0, 40.0, 66.0,\n",
       "       42.0, 21.0, 18.0, 3.0, 7.0, 49.0, 29.0, 65.0, 28.5, 5.0, 11.0,\n",
       "       45.0, 17.0, 32.0, 16.0, 25.0, 0.83, 30.0, 33.0, 23.0, 24.0, 46.0,\n",
       "       59.0, 71.0, 37.0, 47.0, 14.5, 70.5, 32.5, 12.0, 9.0, 36.5, 51.0,\n",
       "       55.5, 40.5, 44.0, 1.0, 61.0, 56.0, 50.0, 36.0, 45.5, 20.5, 62.0,\n",
       "       41.0, 52.0, 63.0, 23.5, 0.92, 43.0, 60.0, 10.0, 64.0, 13.0, 48.0,\n",
       "       0.75, 53.0, 57.0, 80.0, 70.0, 24.5, 6.0, 0.67, 30.5, 0.42, 34.5,\n",
       "       74.0], dtype=object)"
      ]
     },
     "execution_count": 761,
     "metadata": {},
     "output_type": "execute_result"
    }
   ],
   "source": [
    "train_data.Sex = train_data.Sex.map({\"male\":0, \"female\":1})\n",
    "train_data.Age.unique()"
   ]
  },
  {
   "cell_type": "code",
   "execution_count": 762,
   "id": "ce4c4d20-0f53-43b1-bff6-1ea311fd1dc4",
   "metadata": {},
   "outputs": [],
   "source": [
    "def process_age_type(row):\n",
    "    age = row.Age\n",
    "    \n",
    "    if age==\"S\":\n",
    "        return \"senior\"\n",
    "    elif age <=5:\n",
    "        return \"infant\"\n",
    "    elif age <=18:\n",
    "        return \"adolescent\"\n",
    "    elif age <= 24:\n",
    "        return \"adult\"\n",
    "    elif age <= 44:\n",
    "        return \"middle_aged\"\n",
    "    elif age <= 64:\n",
    "        return \"old\"\n",
    "    else:\n",
    "        return \"senior\"\n",
    "train_data[\"Age_type\"] = train_data.apply(process_age_type, axis=1)"
   ]
  },
  {
   "cell_type": "code",
   "execution_count": 763,
   "id": "014581a3-2db4-4060-a1b6-a19b26115f4a",
   "metadata": {},
   "outputs": [],
   "source": [
    "def process_fare_type(row):\n",
    "    age = row.Fare\n",
    "    \n",
    "    \n",
    "    if age==\"S\":\n",
    "        return \"five_star\"\n",
    "    elif age >= 200:\n",
    "        \n",
    "        return \"five_star\"\n",
    "    elif age >= 150:\n",
    "        return \"four_star\"\n",
    "    elif age >=100:\n",
    "        return \"three_star\"\n",
    "    elif age >=50:\n",
    "        return \"two_star\"\n",
    "    else:\n",
    "        return \"one_star\"\n",
    "train_data[\"Fare_type\"] = train_data.apply(process_fare_type, axis=1)"
   ]
  },
  {
   "cell_type": "code",
   "execution_count": 764,
   "id": "d8981b74-4f5c-4b3e-9cc1-6fbe82a83ed8",
   "metadata": {},
   "outputs": [],
   "source": [
    "def process_deck(row):\n",
    "    cabin = row.Cabin\n",
    "    if pd.isnull(cabin):\n",
    "        return \"U\"\n",
    "    else:\n",
    "        return cabin[0]\n",
    "train_data[\"Deck\"] = train_data.apply(process_deck, axis=1)\n"
   ]
  },
  {
   "cell_type": "code",
   "execution_count": 765,
   "id": "c0a56455-7c7f-4a17-a442-009912369035",
   "metadata": {},
   "outputs": [
    {
     "data": {
      "text/html": [
       "<div>\n",
       "<style scoped>\n",
       "    .dataframe tbody tr th:only-of-type {\n",
       "        vertical-align: middle;\n",
       "    }\n",
       "\n",
       "    .dataframe tbody tr th {\n",
       "        vertical-align: top;\n",
       "    }\n",
       "\n",
       "    .dataframe thead th {\n",
       "        text-align: right;\n",
       "    }\n",
       "</style>\n",
       "<table border=\"1\" class=\"dataframe\">\n",
       "  <thead>\n",
       "    <tr style=\"text-align: right;\">\n",
       "      <th></th>\n",
       "      <th>PassengerId</th>\n",
       "      <th>Survived</th>\n",
       "      <th>Pclass</th>\n",
       "      <th>Name</th>\n",
       "      <th>Sex</th>\n",
       "      <th>Age</th>\n",
       "      <th>SibSp</th>\n",
       "      <th>Parch</th>\n",
       "      <th>Ticket</th>\n",
       "      <th>Fare</th>\n",
       "      <th>Cabin</th>\n",
       "      <th>Embarked</th>\n",
       "      <th>Family_size</th>\n",
       "      <th>Age_type</th>\n",
       "      <th>Fare_type</th>\n",
       "      <th>Deck</th>\n",
       "    </tr>\n",
       "  </thead>\n",
       "  <tbody>\n",
       "    <tr>\n",
       "      <th>0</th>\n",
       "      <td>1</td>\n",
       "      <td>0</td>\n",
       "      <td>3</td>\n",
       "      <td>Braund, Mr. Owen Harris</td>\n",
       "      <td>0</td>\n",
       "      <td>22.0</td>\n",
       "      <td>1</td>\n",
       "      <td>0</td>\n",
       "      <td>A/5 21171</td>\n",
       "      <td>7.2500</td>\n",
       "      <td>S</td>\n",
       "      <td>S</td>\n",
       "      <td>2</td>\n",
       "      <td>adult</td>\n",
       "      <td>one_star</td>\n",
       "      <td>S</td>\n",
       "    </tr>\n",
       "    <tr>\n",
       "      <th>1</th>\n",
       "      <td>2</td>\n",
       "      <td>1</td>\n",
       "      <td>1</td>\n",
       "      <td>Cumings, Mrs. John Bradley (Florence Briggs Th...</td>\n",
       "      <td>1</td>\n",
       "      <td>38.0</td>\n",
       "      <td>1</td>\n",
       "      <td>0</td>\n",
       "      <td>PC 17599</td>\n",
       "      <td>71.2833</td>\n",
       "      <td>C85</td>\n",
       "      <td>C</td>\n",
       "      <td>2</td>\n",
       "      <td>middle_aged</td>\n",
       "      <td>two_star</td>\n",
       "      <td>C</td>\n",
       "    </tr>\n",
       "    <tr>\n",
       "      <th>2</th>\n",
       "      <td>3</td>\n",
       "      <td>1</td>\n",
       "      <td>3</td>\n",
       "      <td>Heikkinen, Miss. Laina</td>\n",
       "      <td>1</td>\n",
       "      <td>26.0</td>\n",
       "      <td>0</td>\n",
       "      <td>0</td>\n",
       "      <td>STON/O2. 3101282</td>\n",
       "      <td>7.9250</td>\n",
       "      <td>S</td>\n",
       "      <td>S</td>\n",
       "      <td>1</td>\n",
       "      <td>middle_aged</td>\n",
       "      <td>one_star</td>\n",
       "      <td>S</td>\n",
       "    </tr>\n",
       "    <tr>\n",
       "      <th>3</th>\n",
       "      <td>4</td>\n",
       "      <td>1</td>\n",
       "      <td>1</td>\n",
       "      <td>Futrelle, Mrs. Jacques Heath (Lily May Peel)</td>\n",
       "      <td>1</td>\n",
       "      <td>35.0</td>\n",
       "      <td>1</td>\n",
       "      <td>0</td>\n",
       "      <td>113803</td>\n",
       "      <td>53.1000</td>\n",
       "      <td>C123</td>\n",
       "      <td>S</td>\n",
       "      <td>2</td>\n",
       "      <td>middle_aged</td>\n",
       "      <td>two_star</td>\n",
       "      <td>C</td>\n",
       "    </tr>\n",
       "    <tr>\n",
       "      <th>4</th>\n",
       "      <td>5</td>\n",
       "      <td>0</td>\n",
       "      <td>3</td>\n",
       "      <td>Allen, Mr. William Henry</td>\n",
       "      <td>0</td>\n",
       "      <td>35.0</td>\n",
       "      <td>0</td>\n",
       "      <td>0</td>\n",
       "      <td>373450</td>\n",
       "      <td>8.0500</td>\n",
       "      <td>S</td>\n",
       "      <td>S</td>\n",
       "      <td>1</td>\n",
       "      <td>middle_aged</td>\n",
       "      <td>one_star</td>\n",
       "      <td>S</td>\n",
       "    </tr>\n",
       "  </tbody>\n",
       "</table>\n",
       "</div>"
      ],
      "text/plain": [
       "   PassengerId  Survived  Pclass   \n",
       "0            1         0       3  \\\n",
       "1            2         1       1   \n",
       "2            3         1       3   \n",
       "3            4         1       1   \n",
       "4            5         0       3   \n",
       "\n",
       "                                                Name  Sex   Age  SibSp  Parch   \n",
       "0                            Braund, Mr. Owen Harris    0  22.0      1      0  \\\n",
       "1  Cumings, Mrs. John Bradley (Florence Briggs Th...    1  38.0      1      0   \n",
       "2                             Heikkinen, Miss. Laina    1  26.0      0      0   \n",
       "3       Futrelle, Mrs. Jacques Heath (Lily May Peel)    1  35.0      1      0   \n",
       "4                           Allen, Mr. William Henry    0  35.0      0      0   \n",
       "\n",
       "             Ticket     Fare Cabin Embarked  Family_size     Age_type   \n",
       "0         A/5 21171   7.2500     S        S            2        adult  \\\n",
       "1          PC 17599  71.2833   C85        C            2  middle_aged   \n",
       "2  STON/O2. 3101282   7.9250     S        S            1  middle_aged   \n",
       "3            113803  53.1000  C123        S            2  middle_aged   \n",
       "4            373450   8.0500     S        S            1  middle_aged   \n",
       "\n",
       "  Fare_type Deck  \n",
       "0  one_star    S  \n",
       "1  two_star    C  \n",
       "2  one_star    S  \n",
       "3  two_star    C  \n",
       "4  one_star    S  "
      ]
     },
     "execution_count": 765,
     "metadata": {},
     "output_type": "execute_result"
    }
   ],
   "source": [
    "train_data.head()"
   ]
  },
  {
   "cell_type": "code",
   "execution_count": 766,
   "id": "7bba6226-3e36-4ddd-83a7-8560c18e695c",
   "metadata": {},
   "outputs": [
    {
     "data": {
      "text/plain": [
       "array(['S', 'C', 'E', 'G', 'D', 'A', 'B', 'F', 'T'], dtype=object)"
      ]
     },
     "execution_count": 766,
     "metadata": {},
     "output_type": "execute_result"
    }
   ],
   "source": [
    "train_data.Deck.unique()"
   ]
  },
  {
   "cell_type": "code",
   "execution_count": 767,
   "id": "caffc988-1dac-4863-ae2c-07cb10a486b3",
   "metadata": {},
   "outputs": [
    {
     "data": {
      "text/plain": [
       "<seaborn.axisgrid.FacetGrid at 0x297a9b4bcd0>"
      ]
     },
     "execution_count": 767,
     "metadata": {},
     "output_type": "execute_result"
    },
    {
     "data": {
      "image/png": "[encoded data removed]",
      "text/plain": [
       "<Figure size 1280x1200 with 9 Axes>"
      ]
     },
     "metadata": {},
     "output_type": "display_data"
    }
   ],
   "source": [
    "sns.catplot(x=\"Survived\", col=\"Deck\", col_wrap=4,\n",
    "                data=train_data,\n",
    "                kind=\"count\", height=4, aspect=.8)"
   ]
  },
  {
   "cell_type": "code",
   "execution_count": 768,
   "id": "0de389e7-6b09-47bb-817c-7948926bdd55",
   "metadata": {},
   "outputs": [
    {
     "data": {
      "text/plain": [
       "<seaborn.axisgrid.FacetGrid at 0x297abb9e510>"
      ]
     },
     "execution_count": 768,
     "metadata": {},
     "output_type": "execute_result"
    },
    {
     "data": {
      "image/png": "[encoded data removed]",
      "text/plain": [
       "<Figure size 1280x1200 with 9 Axes>"
      ]
     },
     "metadata": {},
     "output_type": "display_data"
    }
   ],
   "source": [
    "sns.catplot(x=\"Survived\", col=\"Family_size\", col_wrap=4,\n",
    "                data=train_data,\n",
    "                kind=\"count\", height=4, aspect=.8)"
   ]
  },
  {
   "cell_type": "code",
   "execution_count": 769,
   "id": "0476e08f-b626-40a1-b143-77b3602dcc45",
   "metadata": {},
   "outputs": [
    {
     "data": {
      "text/plain": [
       "<seaborn.axisgrid.FacetGrid at 0x297acb41ed0>"
      ]
     },
     "execution_count": 769,
     "metadata": {},
     "output_type": "execute_result"
    },
    {
     "data": {
      "image/png": "[encoded data removed]",
      "text/plain": [
       "<Figure size 1280x800 with 6 Axes>"
      ]
     },
     "metadata": {},
     "output_type": "display_data"
    }
   ],
   "source": [
    "sns.catplot(x=\"Survived\", col=\"Age_type\", col_wrap=4,\n",
    "                data=train_data,\n",
    "                kind=\"count\", height=4, aspect=.8)"
   ]
  },
  {
   "cell_type": "code",
   "execution_count": 770,
   "id": "fc0fd529-bb5c-4667-92a0-d0d1e5330b75",
   "metadata": {},
   "outputs": [
    {
     "data": {
      "text/plain": [
       "<seaborn.axisgrid.FacetGrid at 0x297a6b59010>"
      ]
     },
     "execution_count": 770,
     "metadata": {},
     "output_type": "execute_result"
    },
    {
     "data": {
      "image/png": "[encoded data removed]",
      "text/plain": [
       "<Figure size 1280x400 with 3 Axes>"
      ]
     },
     "metadata": {},
     "output_type": "display_data"
    }
   ],
   "source": [
    "sns.catplot(x=\"Survived\", col=\"Embarked\", col_wrap=4,\n",
    "                data=train_data,\n",
    "                kind=\"count\", height=4, aspect=.8)"
   ]
  },
  {
   "cell_type": "code",
   "execution_count": 771,
   "id": "7fc93638-9eae-4b17-8ea8-d22e4ca6611e",
   "metadata": {},
   "outputs": [
    {
     "data": {
      "text/plain": [
       "<seaborn.axisgrid.FacetGrid at 0x297abbb7010>"
      ]
     },
     "execution_count": 771,
     "metadata": {},
     "output_type": "execute_result"
    },
    {
     "data": {
      "image/png": "[encoded data removed]",
      "text/plain": [
       "<Figure size 1280x800 with 5 Axes>"
      ]
     },
     "metadata": {},
     "output_type": "display_data"
    }
   ],
   "source": [
    "sns.catplot(x=\"Survived\", col=\"Fare_type\", col_wrap=4,\n",
    "                data=train_data,\n",
    "                kind=\"count\", height=4, aspect=.8)"
   ]
  },
  {
   "cell_type": "code",
   "execution_count": 772,
   "id": "c59fdfcb-bbab-488c-b262-78ce7af20229",
   "metadata": {},
   "outputs": [
    {
     "data": {
      "text/plain": [
       "<seaborn.axisgrid.FacetGrid at 0x297aa06eed0>"
      ]
     },
     "execution_count": 772,
     "metadata": {},
     "output_type": "execute_result"
    },
    {
     "data": {
      "image/png": "[encoded data removed]",
      "text/plain": [
       "<Figure size 1280x400 with 3 Axes>"
      ]
     },
     "metadata": {},
     "output_type": "display_data"
    }
   ],
   "source": [
    "sns.catplot(x=\"Survived\", col=\"Pclass\", col_wrap=4,\n",
    "                data=train_data,\n",
    "                kind=\"count\", height=4, aspect=.8)"
   ]
  },
  {
   "cell_type": "code",
   "execution_count": 773,
   "id": "2e3ddc74-7240-43d7-af2d-d87ef7bb2a04",
   "metadata": {},
   "outputs": [
    {
     "data": {
      "text/html": [
       "<div>\n",
       "<style scoped>\n",
       "    .dataframe tbody tr th:only-of-type {\n",
       "        vertical-align: middle;\n",
       "    }\n",
       "\n",
       "    .dataframe tbody tr th {\n",
       "        vertical-align: top;\n",
       "    }\n",
       "\n",
       "    .dataframe thead th {\n",
       "        text-align: right;\n",
       "    }\n",
       "</style>\n",
       "<table border=\"1\" class=\"dataframe\">\n",
       "  <thead>\n",
       "    <tr style=\"text-align: right;\">\n",
       "      <th></th>\n",
       "      <th>PassengerId</th>\n",
       "      <th>Survived</th>\n",
       "      <th>Pclass</th>\n",
       "      <th>Name</th>\n",
       "      <th>Sex</th>\n",
       "      <th>Age</th>\n",
       "      <th>SibSp</th>\n",
       "      <th>Parch</th>\n",
       "      <th>Ticket</th>\n",
       "      <th>Fare</th>\n",
       "      <th>Cabin</th>\n",
       "      <th>Embarked</th>\n",
       "      <th>Family_size</th>\n",
       "      <th>Age_type</th>\n",
       "      <th>Fare_type</th>\n",
       "      <th>Deck</th>\n",
       "    </tr>\n",
       "  </thead>\n",
       "  <tbody>\n",
       "    <tr>\n",
       "      <th>0</th>\n",
       "      <td>1</td>\n",
       "      <td>0</td>\n",
       "      <td>3</td>\n",
       "      <td>Braund, Mr. Owen Harris</td>\n",
       "      <td>0</td>\n",
       "      <td>22.0</td>\n",
       "      <td>1</td>\n",
       "      <td>0</td>\n",
       "      <td>A/5 21171</td>\n",
       "      <td>7.2500</td>\n",
       "      <td>S</td>\n",
       "      <td>S</td>\n",
       "      <td>2</td>\n",
       "      <td>adult</td>\n",
       "      <td>one_star</td>\n",
       "      <td>S</td>\n",
       "    </tr>\n",
       "    <tr>\n",
       "      <th>1</th>\n",
       "      <td>2</td>\n",
       "      <td>1</td>\n",
       "      <td>1</td>\n",
       "      <td>Cumings, Mrs. John Bradley (Florence Briggs Th...</td>\n",
       "      <td>1</td>\n",
       "      <td>38.0</td>\n",
       "      <td>1</td>\n",
       "      <td>0</td>\n",
       "      <td>PC 17599</td>\n",
       "      <td>71.2833</td>\n",
       "      <td>C85</td>\n",
       "      <td>C</td>\n",
       "      <td>2</td>\n",
       "      <td>middle_aged</td>\n",
       "      <td>two_star</td>\n",
       "      <td>C</td>\n",
       "    </tr>\n",
       "    <tr>\n",
       "      <th>2</th>\n",
       "      <td>3</td>\n",
       "      <td>1</td>\n",
       "      <td>3</td>\n",
       "      <td>Heikkinen, Miss. Laina</td>\n",
       "      <td>1</td>\n",
       "      <td>26.0</td>\n",
       "      <td>0</td>\n",
       "      <td>0</td>\n",
       "      <td>STON/O2. 3101282</td>\n",
       "      <td>7.9250</td>\n",
       "      <td>S</td>\n",
       "      <td>S</td>\n",
       "      <td>1</td>\n",
       "      <td>middle_aged</td>\n",
       "      <td>one_star</td>\n",
       "      <td>S</td>\n",
       "    </tr>\n",
       "    <tr>\n",
       "      <th>3</th>\n",
       "      <td>4</td>\n",
       "      <td>1</td>\n",
       "      <td>1</td>\n",
       "      <td>Futrelle, Mrs. Jacques Heath (Lily May Peel)</td>\n",
       "      <td>1</td>\n",
       "      <td>35.0</td>\n",
       "      <td>1</td>\n",
       "      <td>0</td>\n",
       "      <td>113803</td>\n",
       "      <td>53.1000</td>\n",
       "      <td>C123</td>\n",
       "      <td>S</td>\n",
       "      <td>2</td>\n",
       "      <td>middle_aged</td>\n",
       "      <td>two_star</td>\n",
       "      <td>C</td>\n",
       "    </tr>\n",
       "    <tr>\n",
       "      <th>4</th>\n",
       "      <td>5</td>\n",
       "      <td>0</td>\n",
       "      <td>3</td>\n",
       "      <td>Allen, Mr. William Henry</td>\n",
       "      <td>0</td>\n",
       "      <td>35.0</td>\n",
       "      <td>0</td>\n",
       "      <td>0</td>\n",
       "      <td>373450</td>\n",
       "      <td>8.0500</td>\n",
       "      <td>S</td>\n",
       "      <td>S</td>\n",
       "      <td>1</td>\n",
       "      <td>middle_aged</td>\n",
       "      <td>one_star</td>\n",
       "      <td>S</td>\n",
       "    </tr>\n",
       "  </tbody>\n",
       "</table>\n",
       "</div>"
      ],
      "text/plain": [
       "   PassengerId  Survived  Pclass   \n",
       "0            1         0       3  \\\n",
       "1            2         1       1   \n",
       "2            3         1       3   \n",
       "3            4         1       1   \n",
       "4            5         0       3   \n",
       "\n",
       "                                                Name  Sex   Age  SibSp  Parch   \n",
       "0                            Braund, Mr. Owen Harris    0  22.0      1      0  \\\n",
       "1  Cumings, Mrs. John Bradley (Florence Briggs Th...    1  38.0      1      0   \n",
       "2                             Heikkinen, Miss. Laina    1  26.0      0      0   \n",
       "3       Futrelle, Mrs. Jacques Heath (Lily May Peel)    1  35.0      1      0   \n",
       "4                           Allen, Mr. William Henry    0  35.0      0      0   \n",
       "\n",
       "             Ticket     Fare Cabin Embarked  Family_size     Age_type   \n",
       "0         A/5 21171   7.2500     S        S            2        adult  \\\n",
       "1          PC 17599  71.2833   C85        C            2  middle_aged   \n",
       "2  STON/O2. 3101282   7.9250     S        S            1  middle_aged   \n",
       "3            113803  53.1000  C123        S            2  middle_aged   \n",
       "4            373450   8.0500     S        S            1  middle_aged   \n",
       "\n",
       "  Fare_type Deck  \n",
       "0  one_star    S  \n",
       "1  two_star    C  \n",
       "2  one_star    S  \n",
       "3  two_star    C  \n",
       "4  one_star    S  "
      ]
     },
     "execution_count": 773,
     "metadata": {},
     "output_type": "execute_result"
    }
   ],
   "source": [
    "train_data.head()"
   ]
  },
  {
   "cell_type": "code",
   "execution_count": 774,
   "id": "0e3c35bd-90fc-457f-bbdf-beebba182e53",
   "metadata": {},
   "outputs": [
    {
     "data": {
      "text/plain": [
       "PassengerId    891\n",
       "Survived         2\n",
       "Pclass           3\n",
       "Name           891\n",
       "Sex              2\n",
       "Age             89\n",
       "SibSp            7\n",
       "Parch            7\n",
       "Ticket         681\n",
       "Fare           248\n",
       "Cabin          148\n",
       "Embarked         3\n",
       "Family_size      9\n",
       "Age_type         6\n",
       "Fare_type        5\n",
       "Deck             9\n",
       "dtype: int64"
      ]
     },
     "execution_count": 774,
     "metadata": {},
     "output_type": "execute_result"
    }
   ],
   "source": [
    "train_data.nunique()"
   ]
  },
  {
   "cell_type": "code",
   "execution_count": 775,
   "id": "89e8081a-c6a6-4c75-a44f-58101d1c7bcf",
   "metadata": {},
   "outputs": [
    {
     "name": "stdout",
     "output_type": "stream",
     "text": [
      "['Pclass', 'Embarked', 'Family_size', 'Age_type', 'Deck', 'Fare_type']\n"
     ]
    }
   ],
   "source": [
    "feature_dummy=[\"Pclass\",\"Embarked\",\"Family_size\",\"Age_type\",\"Deck\",\"Fare_type\"]\n",
    "print(feature_dummy)"
   ]
  },
  {
   "cell_type": "code",
   "execution_count": 776,
   "id": "490e0fc2-8c1d-42df-b080-7c14531c83f8",
   "metadata": {},
   "outputs": [],
   "source": [
    "df=pd.get_dummies(data=train_data,prefix=feature_dummy,columns=feature_dummy)"
   ]
  },
  {
   "cell_type": "code",
   "execution_count": 777,
   "id": "a5bbfede-b216-4e5d-bee3-40f863e3494d",
   "metadata": {},
   "outputs": [
    {
     "data": {
      "text/plain": [
       "Index(['PassengerId', 'Survived', 'Name', 'Sex', 'Age', 'SibSp', 'Parch',\n",
       "       'Ticket', 'Fare', 'Cabin', 'Pclass_1', 'Pclass_2', 'Pclass_3',\n",
       "       'Embarked_C', 'Embarked_Q', 'Embarked_S', 'Family_size_1',\n",
       "       'Family_size_2', 'Family_size_3', 'Family_size_4', 'Family_size_5',\n",
       "       'Family_size_6', 'Family_size_7', 'Family_size_8', 'Family_size_11',\n",
       "       'Age_type_adolescent', 'Age_type_adult', 'Age_type_infant',\n",
       "       'Age_type_middle_aged', 'Age_type_old', 'Age_type_senior', 'Deck_A',\n",
       "       'Deck_B', 'Deck_C', 'Deck_D', 'Deck_E', 'Deck_F', 'Deck_G', 'Deck_S',\n",
       "       'Deck_T', 'Fare_type_five_star', 'Fare_type_four_star',\n",
       "       'Fare_type_one_star', 'Fare_type_three_star', 'Fare_type_two_star'],\n",
       "      dtype='object')"
      ]
     },
     "execution_count": 777,
     "metadata": {},
     "output_type": "execute_result"
    }
   ],
   "source": [
    "df.columns"
   ]
  },
  {
   "cell_type": "code",
   "execution_count": 778,
   "id": "9940bc94-356e-4d69-8673-45c7e1c900cb",
   "metadata": {},
   "outputs": [
    {
     "data": {
      "text/html": [
       "<div>\n",
       "<style scoped>\n",
       "    .dataframe tbody tr th:only-of-type {\n",
       "        vertical-align: middle;\n",
       "    }\n",
       "\n",
       "    .dataframe tbody tr th {\n",
       "        vertical-align: top;\n",
       "    }\n",
       "\n",
       "    .dataframe thead th {\n",
       "        text-align: right;\n",
       "    }\n",
       "</style>\n",
       "<table border=\"1\" class=\"dataframe\">\n",
       "  <thead>\n",
       "    <tr style=\"text-align: right;\">\n",
       "      <th></th>\n",
       "      <th>PassengerId</th>\n",
       "      <th>Survived</th>\n",
       "      <th>Name</th>\n",
       "      <th>Sex</th>\n",
       "      <th>Age</th>\n",
       "      <th>SibSp</th>\n",
       "      <th>Parch</th>\n",
       "      <th>Ticket</th>\n",
       "      <th>Fare</th>\n",
       "      <th>Cabin</th>\n",
       "      <th>...</th>\n",
       "      <th>Deck_E</th>\n",
       "      <th>Deck_F</th>\n",
       "      <th>Deck_G</th>\n",
       "      <th>Deck_S</th>\n",
       "      <th>Deck_T</th>\n",
       "      <th>Fare_type_five_star</th>\n",
       "      <th>Fare_type_four_star</th>\n",
       "      <th>Fare_type_one_star</th>\n",
       "      <th>Fare_type_three_star</th>\n",
       "      <th>Fare_type_two_star</th>\n",
       "    </tr>\n",
       "  </thead>\n",
       "  <tbody>\n",
       "    <tr>\n",
       "      <th>0</th>\n",
       "      <td>1</td>\n",
       "      <td>0</td>\n",
       "      <td>Braund, Mr. Owen Harris</td>\n",
       "      <td>0</td>\n",
       "      <td>22.0</td>\n",
       "      <td>1</td>\n",
       "      <td>0</td>\n",
       "      <td>A/5 21171</td>\n",
       "      <td>7.2500</td>\n",
       "      <td>S</td>\n",
       "      <td>...</td>\n",
       "      <td>False</td>\n",
       "      <td>False</td>\n",
       "      <td>False</td>\n",
       "      <td>True</td>\n",
       "      <td>False</td>\n",
       "      <td>False</td>\n",
       "      <td>False</td>\n",
       "      <td>True</td>\n",
       "      <td>False</td>\n",
       "      <td>False</td>\n",
       "    </tr>\n",
       "    <tr>\n",
       "      <th>1</th>\n",
       "      <td>2</td>\n",
       "      <td>1</td>\n",
       "      <td>Cumings, Mrs. John Bradley (Florence Briggs Th...</td>\n",
       "      <td>1</td>\n",
       "      <td>38.0</td>\n",
       "      <td>1</td>\n",
       "      <td>0</td>\n",
       "      <td>PC 17599</td>\n",
       "      <td>71.2833</td>\n",
       "      <td>C85</td>\n",
       "      <td>...</td>\n",
       "      <td>False</td>\n",
       "      <td>False</td>\n",
       "      <td>False</td>\n",
       "      <td>False</td>\n",
       "      <td>False</td>\n",
       "      <td>False</td>\n",
       "      <td>False</td>\n",
       "      <td>False</td>\n",
       "      <td>False</td>\n",
       "      <td>True</td>\n",
       "    </tr>\n",
       "    <tr>\n",
       "      <th>2</th>\n",
       "      <td>3</td>\n",
       "      <td>1</td>\n",
       "      <td>Heikkinen, Miss. Laina</td>\n",
       "      <td>1</td>\n",
       "      <td>26.0</td>\n",
       "      <td>0</td>\n",
       "      <td>0</td>\n",
       "      <td>STON/O2. 3101282</td>\n",
       "      <td>7.9250</td>\n",
       "      <td>S</td>\n",
       "      <td>...</td>\n",
       "      <td>False</td>\n",
       "      <td>False</td>\n",
       "      <td>False</td>\n",
       "      <td>True</td>\n",
       "      <td>False</td>\n",
       "      <td>False</td>\n",
       "      <td>False</td>\n",
       "      <td>True</td>\n",
       "      <td>False</td>\n",
       "      <td>False</td>\n",
       "    </tr>\n",
       "    <tr>\n",
       "      <th>3</th>\n",
       "      <td>4</td>\n",
       "      <td>1</td>\n",
       "      <td>Futrelle, Mrs. Jacques Heath (Lily May Peel)</td>\n",
       "      <td>1</td>\n",
       "      <td>35.0</td>\n",
       "      <td>1</td>\n",
       "      <td>0</td>\n",
       "      <td>113803</td>\n",
       "      <td>53.1000</td>\n",
       "      <td>C123</td>\n",
       "      <td>...</td>\n",
       "      <td>False</td>\n",
       "      <td>False</td>\n",
       "      <td>False</td>\n",
       "      <td>False</td>\n",
       "      <td>False</td>\n",
       "      <td>False</td>\n",
       "      <td>False</td>\n",
       "      <td>False</td>\n",
       "      <td>False</td>\n",
       "      <td>True</td>\n",
       "    </tr>\n",
       "    <tr>\n",
       "      <th>4</th>\n",
       "      <td>5</td>\n",
       "      <td>0</td>\n",
       "      <td>Allen, Mr. William Henry</td>\n",
       "      <td>0</td>\n",
       "      <td>35.0</td>\n",
       "      <td>0</td>\n",
       "      <td>0</td>\n",
       "      <td>373450</td>\n",
       "      <td>8.0500</td>\n",
       "      <td>S</td>\n",
       "      <td>...</td>\n",
       "      <td>False</td>\n",
       "      <td>False</td>\n",
       "      <td>False</td>\n",
       "      <td>True</td>\n",
       "      <td>False</td>\n",
       "      <td>False</td>\n",
       "      <td>False</td>\n",
       "      <td>True</td>\n",
       "      <td>False</td>\n",
       "      <td>False</td>\n",
       "    </tr>\n",
       "  </tbody>\n",
       "</table>\n",
       "<p>5 rows × 45 columns</p>\n",
       "</div>"
      ],
      "text/plain": [
       "   PassengerId  Survived                                               Name   \n",
       "0            1         0                            Braund, Mr. Owen Harris  \\\n",
       "1            2         1  Cumings, Mrs. John Bradley (Florence Briggs Th...   \n",
       "2            3         1                             Heikkinen, Miss. Laina   \n",
       "3            4         1       Futrelle, Mrs. Jacques Heath (Lily May Peel)   \n",
       "4            5         0                           Allen, Mr. William Henry   \n",
       "\n",
       "   Sex   Age  SibSp  Parch            Ticket     Fare Cabin  ...  Deck_E   \n",
       "0    0  22.0      1      0         A/5 21171   7.2500     S  ...   False  \\\n",
       "1    1  38.0      1      0          PC 17599  71.2833   C85  ...   False   \n",
       "2    1  26.0      0      0  STON/O2. 3101282   7.9250     S  ...   False   \n",
       "3    1  35.0      1      0            113803  53.1000  C123  ...   False   \n",
       "4    0  35.0      0      0            373450   8.0500     S  ...   False   \n",
       "\n",
       "   Deck_F  Deck_G  Deck_S  Deck_T  Fare_type_five_star  Fare_type_four_star   \n",
       "0   False   False    True   False                False                False  \\\n",
       "1   False   False   False   False                False                False   \n",
       "2   False   False    True   False                False                False   \n",
       "3   False   False   False   False                False                False   \n",
       "4   False   False    True   False                False                False   \n",
       "\n",
       "   Fare_type_one_star  Fare_type_three_star  Fare_type_two_star  \n",
       "0                True                 False               False  \n",
       "1               False                 False                True  \n",
       "2                True                 False               False  \n",
       "3               False                 False                True  \n",
       "4                True                 False               False  \n",
       "\n",
       "[5 rows x 45 columns]"
      ]
     },
     "execution_count": 778,
     "metadata": {},
     "output_type": "execute_result"
    }
   ],
   "source": [
    "df.head()"
   ]
  },
  {
   "cell_type": "code",
   "execution_count": 779,
   "id": "2f796149-831c-4e77-9cbe-014d2eb9f8a8",
   "metadata": {},
   "outputs": [],
   "source": [
    "\n",
    "feature_to_delete=[\"PassengerId\",\"Survived\",\"Name\",\"Age\",\"SibSp\",\"Parch\",\"Ticket\",\"Fare\",\"Cabin\"]"
   ]
  },
  {
   "cell_type": "code",
   "execution_count": 780,
   "id": "e4fc942e-cf7b-446f-b390-0e65053d8a86",
   "metadata": {},
   "outputs": [],
   "source": [
    "new_feature=[i for i in df.columns if i not in  feature_to_delete]"
   ]
  },
  {
   "cell_type": "code",
   "execution_count": 781,
   "id": "aee96067-41e3-4067-b386-f10af372fabc",
   "metadata": {},
   "outputs": [
    {
     "name": "stdout",
     "output_type": "stream",
     "text": [
      "['Sex', 'Pclass_1', 'Pclass_2', 'Pclass_3', 'Embarked_C', 'Embarked_Q', 'Embarked_S', 'Family_size_1', 'Family_size_2', 'Family_size_3', 'Family_size_4', 'Family_size_5', 'Family_size_6', 'Family_size_7', 'Family_size_8', 'Family_size_11', 'Age_type_adolescent', 'Age_type_adult', 'Age_type_infant', 'Age_type_middle_aged', 'Age_type_old', 'Age_type_senior', 'Deck_A', 'Deck_B', 'Deck_C', 'Deck_D', 'Deck_E', 'Deck_F', 'Deck_G', 'Deck_S', 'Deck_T', 'Fare_type_five_star', 'Fare_type_four_star', 'Fare_type_one_star', 'Fare_type_three_star', 'Fare_type_two_star']\n"
     ]
    }
   ],
   "source": [
    "print(new_feature)"
   ]
  },
  {
   "cell_type": "code",
   "execution_count": 782,
   "id": "624dd776-8238-4c7d-b9f8-c5b4a11a8f0b",
   "metadata": {},
   "outputs": [],
   "source": [
    "X_train,y_train=df[new_feature],df[\"Survived\"]"
   ]
  },
  {
   "cell_type": "code",
   "execution_count": 783,
   "id": "00dfdc83-1ee5-4405-9dbf-86258cc86f94",
   "metadata": {},
   "outputs": [
    {
     "name": "stdout",
     "output_type": "stream",
     "text": [
      "(891, 36)\n"
     ]
    }
   ],
   "source": [
    "print(X_train.shape)"
   ]
  },
  {
   "cell_type": "code",
   "execution_count": 784,
   "id": "6393cbea-2c6b-452c-a177-44282a99b7e3",
   "metadata": {},
   "outputs": [],
   "source": [
    "X_train,X_val,y_train,y_val=train_test_split(X_train,y_train,test_size=0.2,random_state=1)"
   ]
  },
  {
   "cell_type": "code",
   "execution_count": 785,
   "id": "7142a855-d1db-428a-948d-d6fa5d4158de",
   "metadata": {},
   "outputs": [
    {
     "name": "stdout",
     "output_type": "stream",
     "text": [
      "(712, 36) (712,)\n",
      "(179, 36) (179,)\n"
     ]
    }
   ],
   "source": [
    "X_train,y_train=np.array(X_train),np.array(y_train)\n",
    "X_val,y_val=np.array(X_val),np.array(y_val)\n",
    "print(X_train.shape,y_train.shape)\n",
    "print(X_val.shape,y_val.shape)"
   ]
  },
  {
   "cell_type": "code",
   "execution_count": 786,
   "id": "68fba50c-d297-453c-86f9-80a31f5ceb6f",
   "metadata": {},
   "outputs": [
    {
     "name": "stdout",
     "output_type": "stream",
     "text": [
      "(712, 1)\n",
      "[0 False False True False True False False False True False False False\n",
      " False False False False False False False False True False False False\n",
      " False False False False True False False False True False False]\n"
     ]
    }
   ],
   "source": [
    "X_train[0]\n",
    "y=y_train.reshape(-1,1)\n",
    "print(y.shape)\n",
    "print(X_train[0])"
   ]
  },
  {
   "cell_type": "code",
   "execution_count": 787,
   "id": "58d5e1a6-0d5e-446b-b655-017dbff8aa9a",
   "metadata": {},
   "outputs": [],
   "source": [
    "model2 = XGBClassifier(learning_rate=0.01,\n",
    "                     n_estimators=1150,\n",
    "                     max_depth=5,\n",
    "                     objective= 'binary:logistic',\n",
    "                    verbosity = 1, random_state = 50,\n",
    "                    early_stopping_rounds=10\n",
    "                    \n",
    "                    )"
   ]
  },
  {
   "cell_type": "code",
   "execution_count": 788,
   "id": "a39b4bf4-7e81-486a-8494-bff0447061dc",
   "metadata": {},
   "outputs": [
    {
     "name": "stdout",
     "output_type": "stream",
     "text": [
      "[0]\tvalidation_0-logloss:0.67363\n",
      "[1]\tvalidation_0-logloss:0.66968\n",
      "[2]\tvalidation_0-logloss:0.66578\n",
      "[3]\tvalidation_0-logloss:0.66200\n",
      "[4]\tvalidation_0-logloss:0.65831\n",
      "[5]\tvalidation_0-logloss:0.65469\n",
      "[6]\tvalidation_0-logloss:0.65111\n",
      "[7]\tvalidation_0-logloss:0.64764\n",
      "[8]\tvalidation_0-logloss:0.64425\n",
      "[9]\tvalidation_0-logloss:0.64092\n",
      "[10]\tvalidation_0-logloss:0.63763\n",
      "[11]\tvalidation_0-logloss:0.63443\n",
      "[12]\tvalidation_0-logloss:0.63131\n",
      "[13]\tvalidation_0-logloss:0.62824\n",
      "[14]\tvalidation_0-logloss:0.62520\n",
      "[15]\tvalidation_0-logloss:0.62226\n",
      "[16]\tvalidation_0-logloss:0.61937\n",
      "[17]\tvalidation_0-logloss:0.61659\n",
      "[18]\tvalidation_0-logloss:0.61382\n",
      "[19]\tvalidation_0-logloss:0.61115\n",
      "[20]\tvalidation_0-logloss:0.60848\n",
      "[21]\tvalidation_0-logloss:0.60592\n",
      "[22]\tvalidation_0-logloss:0.60335\n",
      "[23]\tvalidation_0-logloss:0.60088\n",
      "[24]\tvalidation_0-logloss:0.59841\n",
      "[25]\tvalidation_0-logloss:0.59598\n",
      "[26]\tvalidation_0-logloss:0.59363\n",
      "[27]\tvalidation_0-logloss:0.59134\n",
      "[28]\tvalidation_0-logloss:0.58903\n",
      "[29]\tvalidation_0-logloss:0.58683\n",
      "[30]\tvalidation_0-logloss:0.58468\n",
      "[31]\tvalidation_0-logloss:0.58250\n",
      "[32]\tvalidation_0-logloss:0.58045\n",
      "[33]\tvalidation_0-logloss:0.57836\n",
      "[34]\tvalidation_0-logloss:0.57635\n",
      "[35]\tvalidation_0-logloss:0.57439\n",
      "[36]\tvalidation_0-logloss:0.57240\n",
      "[37]\tvalidation_0-logloss:0.57052\n",
      "[38]\tvalidation_0-logloss:0.56865\n",
      "[39]\tvalidation_0-logloss:0.56677\n",
      "[40]\tvalidation_0-logloss:0.56500\n",
      "[41]\tvalidation_0-logloss:0.56317\n",
      "[42]\tvalidation_0-logloss:0.56146\n",
      "[43]\tvalidation_0-logloss:0.55974\n",
      "[44]\tvalidation_0-logloss:0.55804\n",
      "[45]\tvalidation_0-logloss:0.55640\n",
      "[46]\tvalidation_0-logloss:0.55479\n",
      "[47]\tvalidation_0-logloss:0.55315\n",
      "[48]\tvalidation_0-logloss:0.55158\n",
      "[49]\tvalidation_0-logloss:0.55000\n",
      "[50]\tvalidation_0-logloss:0.54848\n",
      "[51]\tvalidation_0-logloss:0.54701\n",
      "[52]\tvalidation_0-logloss:0.54550\n",
      "[53]\tvalidation_0-logloss:0.54407\n",
      "[54]\tvalidation_0-logloss:0.54261\n",
      "[55]\tvalidation_0-logloss:0.54123\n",
      "[56]\tvalidation_0-logloss:0.53986\n",
      "[57]\tvalidation_0-logloss:0.53849\n",
      "[58]\tvalidation_0-logloss:0.53719\n",
      "[59]\tvalidation_0-logloss:0.53597\n",
      "[60]\tvalidation_0-logloss:0.53466\n",
      "[61]\tvalidation_0-logloss:0.53343\n",
      "[62]\tvalidation_0-logloss:0.53221\n",
      "[63]\tvalidation_0-logloss:0.53096\n",
      "[64]\tvalidation_0-logloss:0.52980\n",
      "[65]\tvalidation_0-logloss:0.52858\n",
      "[66]\tvalidation_0-logloss:0.52747\n",
      "[67]\tvalidation_0-logloss:0.52636\n",
      "[68]\tvalidation_0-logloss:0.52528\n",
      "[69]\tvalidation_0-logloss:0.52421\n",
      "[70]\tvalidation_0-logloss:0.52316\n",
      "[71]\tvalidation_0-logloss:0.52207\n",
      "[72]\tvalidation_0-logloss:0.52104\n",
      "[73]\tvalidation_0-logloss:0.51999\n",
      "[74]\tvalidation_0-logloss:0.51900\n",
      "[75]\tvalidation_0-logloss:0.51803\n",
      "[76]\tvalidation_0-logloss:0.51701\n",
      "[77]\tvalidation_0-logloss:0.51615\n",
      "[78]\tvalidation_0-logloss:0.51517\n",
      "[79]\tvalidation_0-logloss:0.51427\n",
      "[80]\tvalidation_0-logloss:0.51336\n",
      "[81]\tvalidation_0-logloss:0.51249\n",
      "[82]\tvalidation_0-logloss:0.51163\n",
      "[83]\tvalidation_0-logloss:0.51072\n",
      "[84]\tvalidation_0-logloss:0.50994\n",
      "[85]\tvalidation_0-logloss:0.50915\n",
      "[86]\tvalidation_0-logloss:0.50844\n",
      "[87]\tvalidation_0-logloss:0.50766\n",
      "[88]\tvalidation_0-logloss:0.50696\n",
      "[89]\tvalidation_0-logloss:0.50623\n",
      "[90]\tvalidation_0-logloss:0.50550\n",
      "[91]\tvalidation_0-logloss:0.50477\n",
      "[92]\tvalidation_0-logloss:0.50407\n",
      "[93]\tvalidation_0-logloss:0.50341\n",
      "[94]\tvalidation_0-logloss:0.50272\n",
      "[95]\tvalidation_0-logloss:0.50210\n",
      "[96]\tvalidation_0-logloss:0.50140\n",
      "[97]\tvalidation_0-logloss:0.50082\n",
      "[98]\tvalidation_0-logloss:0.50021\n",
      "[99]\tvalidation_0-logloss:0.49957\n",
      "[100]\tvalidation_0-logloss:0.49897\n",
      "[101]\tvalidation_0-logloss:0.49838\n",
      "[102]\tvalidation_0-logloss:0.49781\n",
      "[103]\tvalidation_0-logloss:0.49723\n",
      "[104]\tvalidation_0-logloss:0.49674\n",
      "[105]\tvalidation_0-logloss:0.49620\n",
      "[106]\tvalidation_0-logloss:0.49564\n",
      "[107]\tvalidation_0-logloss:0.49516\n",
      "[108]\tvalidation_0-logloss:0.49456\n",
      "[109]\tvalidation_0-logloss:0.49404\n",
      "[110]\tvalidation_0-logloss:0.49351\n",
      "[111]\tvalidation_0-logloss:0.49293\n",
      "[112]\tvalidation_0-logloss:0.49237\n",
      "[113]\tvalidation_0-logloss:0.49191\n",
      "[114]\tvalidation_0-logloss:0.49132\n",
      "[115]\tvalidation_0-logloss:0.49078\n",
      "[116]\tvalidation_0-logloss:0.49039\n",
      "[117]\tvalidation_0-logloss:0.48990\n",
      "[118]\tvalidation_0-logloss:0.48945\n",
      "[119]\tvalidation_0-logloss:0.48897\n",
      "[120]\tvalidation_0-logloss:0.48851\n",
      "[121]\tvalidation_0-logloss:0.48818\n",
      "[122]\tvalidation_0-logloss:0.48774\n",
      "[123]\tvalidation_0-logloss:0.48734\n",
      "[124]\tvalidation_0-logloss:0.48691\n",
      "[125]\tvalidation_0-logloss:0.48649\n",
      "[126]\tvalidation_0-logloss:0.48616\n",
      "[127]\tvalidation_0-logloss:0.48572\n",
      "[128]\tvalidation_0-logloss:0.48528\n",
      "[129]\tvalidation_0-logloss:0.48498\n",
      "[130]\tvalidation_0-logloss:0.48460\n",
      "[131]\tvalidation_0-logloss:0.48432\n",
      "[132]\tvalidation_0-logloss:0.48391\n",
      "[133]\tvalidation_0-logloss:0.48360\n",
      "[134]\tvalidation_0-logloss:0.48321\n",
      "[135]\tvalidation_0-logloss:0.48286\n",
      "[136]\tvalidation_0-logloss:0.48248\n",
      "[137]\tvalidation_0-logloss:0.48224\n",
      "[138]\tvalidation_0-logloss:0.48192\n",
      "[139]\tvalidation_0-logloss:0.48172\n",
      "[140]\tvalidation_0-logloss:0.48142\n",
      "[141]\tvalidation_0-logloss:0.48120\n",
      "[142]\tvalidation_0-logloss:0.48086\n",
      "[143]\tvalidation_0-logloss:0.48058\n",
      "[144]\tvalidation_0-logloss:0.48037\n",
      "[145]\tvalidation_0-logloss:0.48009\n",
      "[146]\tvalidation_0-logloss:0.47978\n",
      "[147]\tvalidation_0-logloss:0.47956\n",
      "[148]\tvalidation_0-logloss:0.47934\n",
      "[149]\tvalidation_0-logloss:0.47916\n",
      "[150]\tvalidation_0-logloss:0.47891\n",
      "[151]\tvalidation_0-logloss:0.47879\n",
      "[152]\tvalidation_0-logloss:0.47857\n",
      "[153]\tvalidation_0-logloss:0.47830\n",
      "[154]\tvalidation_0-logloss:0.47814\n",
      "[155]\tvalidation_0-logloss:0.47792\n",
      "[156]\tvalidation_0-logloss:0.47773\n",
      "[157]\tvalidation_0-logloss:0.47754\n",
      "[158]\tvalidation_0-logloss:0.47734\n",
      "[159]\tvalidation_0-logloss:0.47716\n",
      "[160]\tvalidation_0-logloss:0.47700\n",
      "[161]\tvalidation_0-logloss:0.47687\n",
      "[162]\tvalidation_0-logloss:0.47679\n",
      "[163]\tvalidation_0-logloss:0.47660\n",
      "[164]\tvalidation_0-logloss:0.47640\n",
      "[165]\tvalidation_0-logloss:0.47628\n",
      "[166]\tvalidation_0-logloss:0.47610\n",
      "[167]\tvalidation_0-logloss:0.47593\n",
      "[168]\tvalidation_0-logloss:0.47580\n",
      "[169]\tvalidation_0-logloss:0.47568\n",
      "[170]\tvalidation_0-logloss:0.47557\n",
      "[171]\tvalidation_0-logloss:0.47548\n",
      "[172]\tvalidation_0-logloss:0.47536\n",
      "[173]\tvalidation_0-logloss:0.47527\n",
      "[174]\tvalidation_0-logloss:0.47516\n",
      "[175]\tvalidation_0-logloss:0.47506\n",
      "[176]\tvalidation_0-logloss:0.47498\n",
      "[177]\tvalidation_0-logloss:0.47491\n",
      "[178]\tvalidation_0-logloss:0.47483\n",
      "[179]\tvalidation_0-logloss:0.47462\n",
      "[180]\tvalidation_0-logloss:0.47452\n",
      "[181]\tvalidation_0-logloss:0.47453\n",
      "[182]\tvalidation_0-logloss:0.47442\n",
      "[183]\tvalidation_0-logloss:0.47441\n",
      "[184]\tvalidation_0-logloss:0.47436\n",
      "[185]\tvalidation_0-logloss:0.47429\n",
      "[186]\tvalidation_0-logloss:0.47429\n",
      "[187]\tvalidation_0-logloss:0.47422\n",
      "[188]\tvalidation_0-logloss:0.47409\n",
      "[189]\tvalidation_0-logloss:0.47407\n",
      "[190]\tvalidation_0-logloss:0.47403\n",
      "[191]\tvalidation_0-logloss:0.47405\n",
      "[192]\tvalidation_0-logloss:0.47400\n",
      "[193]\tvalidation_0-logloss:0.47392\n",
      "[194]\tvalidation_0-logloss:0.47388\n",
      "[195]\tvalidation_0-logloss:0.47388\n",
      "[196]\tvalidation_0-logloss:0.47390\n",
      "[197]\tvalidation_0-logloss:0.47381\n",
      "[198]\tvalidation_0-logloss:0.47381\n",
      "[199]\tvalidation_0-logloss:0.47364\n",
      "[200]\tvalidation_0-logloss:0.47367\n",
      "[201]\tvalidation_0-logloss:0.47373\n",
      "[202]\tvalidation_0-logloss:0.47371\n",
      "[203]\tvalidation_0-logloss:0.47369\n",
      "[204]\tvalidation_0-logloss:0.47374\n",
      "[205]\tvalidation_0-logloss:0.47375\n",
      "[206]\tvalidation_0-logloss:0.47381\n",
      "[207]\tvalidation_0-logloss:0.47377\n",
      "[208]\tvalidation_0-logloss:0.47376\n"
     ]
    },
    {
     "data": {
      "text/html": [
       "<style>#sk-container-id-19 {color: black;}#sk-container-id-19 pre{padding: 0;}#sk-container-id-19 div.sk-toggleable {background-color: white;}#sk-container-id-19 label.sk-toggleable__label {cursor: pointer;display: block;width: 100%;margin-bottom: 0;padding: 0.3em;box-sizing: border-box;text-align: center;}#sk-container-id-19 label.sk-toggleable__label-arrow:before {content: \"▸\";float: left;margin-right: 0.25em;color: #696969;}#sk-container-id-19 label.sk-toggleable__label-arrow:hover:before {color: black;}#sk-container-id-19 div.sk-estimator:hover label.sk-toggleable__label-arrow:before {color: black;}#sk-container-id-19 div.sk-toggleable__content {max-height: 0;max-width: 0;overflow: hidden;text-align: left;background-color: #f0f8ff;}#sk-container-id-19 div.sk-toggleable__content pre {margin: 0.2em;color: black;border-radius: 0.25em;background-color: #f0f8ff;}#sk-container-id-19 input.sk-toggleable__control:checked~div.sk-toggleable__content {max-height: 200px;max-width: 100%;overflow: auto;}#sk-container-id-19 input.sk-toggleable__control:checked~label.sk-toggleable__label-arrow:before {content: \"▾\";}#sk-container-id-19 div.sk-estimator input.sk-toggleable__control:checked~label.sk-toggleable__label {background-color: #d4ebff;}#sk-container-id-19 div.sk-label input.sk-toggleable__control:checked~label.sk-toggleable__label {background-color: #d4ebff;}#sk-container-id-19 input.sk-hidden--visually {border: 0;clip: rect(1px 1px 1px 1px);clip: rect(1px, 1px, 1px, 1px);height: 1px;margin: -1px;overflow: hidden;padding: 0;position: absolute;width: 1px;}#sk-container-id-19 div.sk-estimator {font-family: monospace;background-color: #f0f8ff;border: 1px dotted black;border-radius: 0.25em;box-sizing: border-box;margin-bottom: 0.5em;}#sk-container-id-19 div.sk-estimator:hover {background-color: #d4ebff;}#sk-container-id-19 div.sk-parallel-item::after {content: \"\";width: 100%;border-bottom: 1px solid gray;flex-grow: 1;}#sk-container-id-19 div.sk-label:hover label.sk-toggleable__label {background-color: #d4ebff;}#sk-container-id-19 div.sk-serial::before {content: \"\";position: absolute;border-left: 1px solid gray;box-sizing: border-box;top: 0;bottom: 0;left: 50%;z-index: 0;}#sk-container-id-19 div.sk-serial {display: flex;flex-direction: column;align-items: center;background-color: white;padding-right: 0.2em;padding-left: 0.2em;position: relative;}#sk-container-id-19 div.sk-item {position: relative;z-index: 1;}#sk-container-id-19 div.sk-parallel {display: flex;align-items: stretch;justify-content: center;background-color: white;position: relative;}#sk-container-id-19 div.sk-item::before, #sk-container-id-19 div.sk-parallel-item::before {content: \"\";position: absolute;border-left: 1px solid gray;box-sizing: border-box;top: 0;bottom: 0;left: 50%;z-index: -1;}#sk-container-id-19 div.sk-parallel-item {display: flex;flex-direction: column;z-index: 1;position: relative;background-color: white;}#sk-container-id-19 div.sk-parallel-item:first-child::after {align-self: flex-end;width: 50%;}#sk-container-id-19 div.sk-parallel-item:last-child::after {align-self: flex-start;width: 50%;}#sk-container-id-19 div.sk-parallel-item:only-child::after {width: 0;}#sk-container-id-19 div.sk-dashed-wrapped {border: 1px dashed gray;margin: 0 0.4em 0.5em 0.4em;box-sizing: border-box;padding-bottom: 0.4em;background-color: white;}#sk-container-id-19 div.sk-label label {font-family: monospace;font-weight: bold;display: inline-block;line-height: 1.2em;}#sk-container-id-19 div.sk-label-container {text-align: center;}#sk-container-id-19 div.sk-container {/* jupyter's `normalize.less` sets `[hidden] { display: none; }` but bootstrap.min.css set `[hidden] { display: none !important; }` so we also need the `!important` here to be able to override the default hidden behavior on the sphinx rendered scikit-learn.org. See: https://github.com/scikit-learn/scikit-learn/issues/21755 */display: inline-block !important;position: relative;}#sk-container-id-19 div.sk-text-repr-fallback {display: none;}</style><div id=\"sk-container-id-19\" class=\"sk-top-container\"><div class=\"sk-text-repr-fallback\"><pre>XGBClassifier(base_score=None, booster=None, callbacks=None,\n",
       "              colsample_bylevel=None, colsample_bynode=None,\n",
       "              colsample_bytree=None, device=None, early_stopping_rounds=10,\n",
       "              enable_categorical=False, eval_metric=None, feature_types=None,\n",
       "              gamma=None, grow_policy=None, importance_type=None,\n",
       "              interaction_constraints=None, learning_rate=0.01, max_bin=None,\n",
       "              max_cat_threshold=None, max_cat_to_onehot=None,\n",
       "              max_delta_step=None, max_depth=5, max_leaves=None,\n",
       "              min_child_weight=None, missing=nan, monotone_constraints=None,\n",
       "              multi_strategy=None, n_estimators=1150, n_jobs=None,\n",
       "              num_parallel_tree=None, random_state=50, ...)</pre><b>In a Jupyter environment, please rerun this cell to show the HTML representation or trust the notebook. <br />On GitHub, the HTML representation is unable to render, please try loading this page with nbviewer.org.</b></div><div class=\"sk-container\" hidden><div class=\"sk-item\"><div class=\"sk-estimator sk-toggleable\"><input class=\"sk-toggleable__control sk-hidden--visually\" id=\"sk-estimator-id-19\" type=\"checkbox\" checked><label for=\"sk-estimator-id-19\" class=\"sk-toggleable__label sk-toggleable__label-arrow\">XGBClassifier</label><div class=\"sk-toggleable__content\"><pre>XGBClassifier(base_score=None, booster=None, callbacks=None,\n",
       "              colsample_bylevel=None, colsample_bynode=None,\n",
       "              colsample_bytree=None, device=None, early_stopping_rounds=10,\n",
       "              enable_categorical=False, eval_metric=None, feature_types=None,\n",
       "              gamma=None, grow_policy=None, importance_type=None,\n",
       "              interaction_constraints=None, learning_rate=0.01, max_bin=None,\n",
       "              max_cat_threshold=None, max_cat_to_onehot=None,\n",
       "              max_delta_step=None, max_depth=5, max_leaves=None,\n",
       "              min_child_weight=None, missing=nan, monotone_constraints=None,\n",
       "              multi_strategy=None, n_estimators=1150, n_jobs=None,\n",
       "              num_parallel_tree=None, random_state=50, ...)</pre></div></div></div></div></div>"
      ],
      "text/plain": [
       "XGBClassifier(base_score=None, booster=None, callbacks=None,\n",
       "              colsample_bylevel=None, colsample_bynode=None,\n",
       "              colsample_bytree=None, device=None, early_stopping_rounds=10,\n",
       "              enable_categorical=False, eval_metric=None, feature_types=None,\n",
       "              gamma=None, grow_policy=None, importance_type=None,\n",
       "              interaction_constraints=None, learning_rate=0.01, max_bin=None,\n",
       "              max_cat_threshold=None, max_cat_to_onehot=None,\n",
       "              max_delta_step=None, max_depth=5, max_leaves=None,\n",
       "              min_child_weight=None, missing=nan, monotone_constraints=None,\n",
       "              multi_strategy=None, n_estimators=1150, n_jobs=None,\n",
       "              num_parallel_tree=None, random_state=50, ...)"
      ]
     },
     "execution_count": 788,
     "metadata": {},
     "output_type": "execute_result"
    }
   ],
   "source": [
    "model2.fit(X_train,y_train,eval_set=[(X_val,y_val)])"
   ]
  },
  {
   "cell_type": "code",
   "execution_count": 789,
   "id": "96b73680-ce25-4559-b96d-f92b9d5d4164",
   "metadata": {},
   "outputs": [
    {
     "data": {
      "text/plain": [
       "199"
      ]
     },
     "execution_count": 789,
     "metadata": {},
     "output_type": "execute_result"
    }
   ],
   "source": [
    "model2.best_iteration"
   ]
  },
  {
   "cell_type": "code",
   "execution_count": 790,
   "id": "031ee918-709f-471d-895d-130e339a2da1",
   "metadata": {},
   "outputs": [],
   "source": [
    "y_hat=model2.predict(X_val)"
   ]
  },
  {
   "cell_type": "code",
   "execution_count": 791,
   "id": "befa8b10-39c8-4180-874d-0c3631085f90",
   "metadata": {},
   "outputs": [],
   "source": [
    "acca=accuracy_score(y_hat,y_val)"
   ]
  },
  {
   "cell_type": "code",
   "execution_count": 792,
   "id": "1c08f0b8-d69a-4c47-9668-0da384071010",
   "metadata": {},
   "outputs": [],
   "source": [
    "y_hat_train=model2.predict(X_train)"
   ]
  },
  {
   "cell_type": "code",
   "execution_count": 793,
   "id": "a04f7275-18be-459f-94e4-4f88fb31f274",
   "metadata": {},
   "outputs": [],
   "source": [
    "acca_train=accuracy_score(y_hat_train,y_train)"
   ]
  },
  {
   "cell_type": "code",
   "execution_count": 794,
   "id": "04772829-6d24-4669-8562-c25202f8b05a",
   "metadata": {},
   "outputs": [
    {
     "name": "stdout",
     "output_type": "stream",
     "text": [
      "Accuracy with traing data: 0.8609550561797753\n"
     ]
    }
   ],
   "source": [
    "print(\"Accuracy with traing data:\",acca_train)"
   ]
  },
  {
   "cell_type": "code",
   "execution_count": 795,
   "id": "9f605532-8c03-42be-983a-baec9118d80b",
   "metadata": {},
   "outputs": [
    {
     "name": "stdout",
     "output_type": "stream",
     "text": [
      "Accuracy with Validation data: 0.7877094972067039\n"
     ]
    }
   ],
   "source": [
    "print(\"Accuracy with Validation data:\",acca)"
   ]
  },
  {
   "cell_type": "code",
   "execution_count": 796,
   "id": "19e1ab4d-b2b3-419c-ac25-3fbca2fa2339",
   "metadata": {},
   "outputs": [],
   "source": [
    "confusion_matrix = metrics.confusion_matrix(y_val, y_hat)"
   ]
  },
  {
   "cell_type": "code",
   "execution_count": 797,
   "id": "aa95c6fa-cc94-4940-a532-649aa21f7812",
   "metadata": {},
   "outputs": [],
   "source": [
    "cm_display = metrics.ConfusionMatrixDisplay(confusion_matrix = confusion_matrix)"
   ]
  },
  {
   "cell_type": "code",
   "execution_count": 798,
   "id": "f6c97fe8-d8fe-4b50-b79b-b716405f48a2",
   "metadata": {},
   "outputs": [
    {
     "data": {
      "image/png": "[encoded data removed]",
      "text/plain": [
       "<Figure size 640x480 with 2 Axes>"
      ]
     },
     "metadata": {},
     "output_type": "display_data"
    }
   ],
   "source": [
    "cm_display.plot()\n",
    "plt.show()"
   ]
  },
  {
   "cell_type": "code",
   "execution_count": null,
   "id": "7946d10a-12e2-4fde-a623-c5df25cf4045",
   "metadata": {},
   "outputs": [],
   "source": []
  }
 ],
 "metadata": {
  "kernelspec": {
   "display_name": "Python 3 (ipykernel)",
   "language": "python",
   "name": "python3"
  },
  "language_info": {
   "codemirror_mode": {
    "name": "ipython",
    "version": 3
   },
   "file_extension": ".py",
   "mimetype": "text/x-python",
   "name": "python",
   "nbconvert_exporter": "python",
   "pygments_lexer": "ipython3",
   "version": "3.11.2"
  }
 },
 "nbformat": 4,
 "nbformat_minor": 5
}
